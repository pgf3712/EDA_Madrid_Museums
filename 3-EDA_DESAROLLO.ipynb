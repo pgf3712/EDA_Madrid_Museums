{
 "cells": [
  {
   "cell_type": "markdown",
   "metadata": {},
   "source": [
    "# Análisis de datos de las visitas a los Museos de Madrid"
   ]
  },
  {
   "cell_type": "markdown",
   "metadata": {},
   "source": [
    "### Proyecto focalizado en el análisis de datos sobre los visitantes en los museos de la Comunidad de Madrid. \n",
    "\n",
    "\n",
    "Paula Garcia Fernandez  -  octubre 2024\n"
   ]
  },
  {
   "cell_type": "markdown",
   "metadata": {},
   "source": [
    "---\n",
    "\n",
    "***"
   ]
  },
  {
   "cell_type": "markdown",
   "metadata": {},
   "source": [
    "## OBTENCIÓN DE LOS DATOS"
   ]
  },
  {
   "cell_type": "code",
   "execution_count": 1,
   "metadata": {},
   "outputs": [],
   "source": [
    "import pandas as pd"
   ]
  },
  {
   "cell_type": "markdown",
   "metadata": {},
   "source": [
    "### CONSUMO CULTURAL"
   ]
  },
  {
   "cell_type": "code",
   "execution_count": 2,
   "metadata": {},
   "outputs": [],
   "source": [
    "\n",
    "datos_museos_1 = pd.read_csv('./datos/otros_datos/https-datos-madrid-es-egob-catalogo-201132-0-museos-3.csv' , sep=\";\", encoding='latin')\n",
    "\n",
    "datos_museos_2 = pd.read_csv(\"./datos/otros_datos/estudioSatisfaccion2023.csv\", sep=\";\", encoding='utf-8')\n",
    "\n",
    "datos_museos_3 = pd.read_csv(\"./datos/otros_datos/actividades_culturales.csv\", sep=\",\", encoding='utf-8')\n",
    "\n",
    "datos_museos_4 = pd.read_csv(\"./datos/otros_datos/MuseosdeMadrid_-1519955177370181428.csv\", sep=\",\", encoding='utf-8')"
   ]
  },
  {
   "cell_type": "markdown",
   "metadata": {},
   "source": [
    "### **JOBO** - CONSUMO CULTURAL JUVENIL"
   ]
  },
  {
   "cell_type": "code",
   "execution_count": null,
   "metadata": {},
   "outputs": [],
   "source": [
    "# 2024\n",
    "jobo_usuarios_2024 = pd.read_csv(\"./datos/JOBO/JOBO_usuarios_2024.csv\", sep=\";\", encoding='utf-8')\n",
    "jobo_entradas_2024 = pd.read_csv(\"./datos/JOBO/JOBO_entradas_emitidas_2024.csv\", sep=\";\", encoding='utf-8')\n",
    "\n",
    "# 2023\n",
    "jobo_usuarios_2023 = pd.read_csv(\"./datos/JOBO/JOBO_usuarios_2023.csv\", sep=\";\", encoding='utf-8')\n",
    "jobo_entradas_2023 = pd.read_csv(\"./datos/JOBO/JOBO_entradas_emitidas_2023.csv\", sep=\";\", encoding='utf-8')\n",
    "\n",
    "# 2022\n",
    "jobo_usuarios_2022 = pd.read_csv(\"./datos/JOBO/JOBO_usuarios_2022.csv\", sep=\";\", encoding='utf-8')\n",
    "jobo_entradas_2022 = pd.read_csv(\"./datos/JOBO/JOBO_entradas_emitidas_2022.csv\", sep=\";\", encoding='utf-8')\n",
    "\n",
    "# 2021\n",
    "jobo_usuarios_2021 = pd.read_csv(\"./datos/JOBO/JOBO_usuarios_2021.csv\", sep=\";\", encoding='utf-8')\n",
    "jobo_entradas_2021 = pd.read_csv(\"./datos/JOBO/JOBO_entradas_emitidas_2021.csv\", sep=\";\", encoding='utf-8')\n",
    "\n",
    "# 2020\n",
    "jobo_usuarios_2020 = pd.read_csv(\"./datos/JOBO/JOBO_usuarios_2020.csv\", sep=\";\", encoding='latin')\n",
    "jobo_entradas_2020 = pd.read_csv(\"./datos/JOBO/JOBO_entradas_emitidas_2020.csv\", sep=\";\", encoding='latin')\n",
    "\n",
    "# 2019\n",
    "jobo_usuarios_2019 = pd.read_csv(\"./datos/JOBO/JOBO_usuarios_2019.csv\", sep=\";\", encoding='latin')\n",
    "jobo_entradas_2019 = pd.read_csv(\"./datos/JOBO/JOBO_entradas_emitidas_2019.csv\", sep=\";\", encoding='latin')\n",
    "\n",
    "# 2018\n",
    "jobo_entradas_2018 = pd.read_csv(\"./datos/JOBO/JOBO_entradas_2018.csv\", sep=\";\", encoding='latin')"
   ]
  },
  {
   "cell_type": "markdown",
   "metadata": {},
   "source": [
    "### TARIFAS Y VISITANTES\n"
   ]
  },
  {
   "cell_type": "code",
   "execution_count": 5,
   "metadata": {},
   "outputs": [],
   "source": [
    "tarifas = pd.read_csv(\"./datos/VISITANTES_GENERAL/tarifas_museos_madrid.csv\", sep=\",\", encoding='utf-8')\n",
    "visitantes = pd.read_csv(\"./datos/VISITANTES_GENERAL/visitantes_museos_madrid_visitas.csv\", sep=\",\", encoding='utf-8')\n",
    "visitantes_renta_estudios = pd.read_csv(\"./datos/VISITANTES_GENERAL/visitantes_museos_madrid_amplio.csv\", sep=\",\", encoding='utf-8')"
   ]
  },
  {
   "cell_type": "markdown",
   "metadata": {},
   "source": [
    "### MUSEOS INDIVIDUALES\n"
   ]
  },
  {
   "cell_type": "code",
   "execution_count": 6,
   "metadata": {},
   "outputs": [],
   "source": [
    "prado = pd.read_csv(\"./datos/MUSEOS_INDIVIDUALES/museo_del_prado_visitantes_filtrados.csv\", sep=\",\", encoding='utf-8')\n",
    "caixa_forum = pd.read_csv(\"./datos/MUSEOS_INDIVIDUALES/caixaforum_madrid_visitantes_filtrados.csv\", sep=\",\", encoding='utf-8')\n",
    "arqueologico = pd.read_csv(\"./datos/MUSEOS_INDIVIDUALES/museo_arqueológico_nacional_visitantes_filtrados.csv\", sep=\",\", encoding='utf-8')\n",
    "cerralbo = pd.read_csv(\"./datos/MUSEOS_INDIVIDUALES/museo_cerralbo_visitantes_filtrados.csv\", sep=\",\", encoding='utf-8')\n",
    "romanticismo = pd.read_csv(\"./datos/MUSEOS_INDIVIDUALES/museo_del_romanticismo_visitantes_filtrados.csv\", sep=\",\", encoding='utf-8')\n",
    "historia_madrid = pd.read_csv(\"./datos/MUSEOS_INDIVIDUALES/museo_de_historia_de_madrid_visitantes_filtrados.csv\", sep=\",\", encoding='utf-8')\n",
    "nacional_de_ciencias_naturales = pd.read_csv(\"./datos/MUSEOS_INDIVIDUALES/museo_nacional_de_ciencias_naturales_visitantes_filtrados.csv\", sep=\",\", encoding='utf-8')\n",
    "reina_sofia = pd.read_csv(\"./datos/MUSEOS_INDIVIDUALES/museo_reina_sofia_visitantes_filtrados.csv\", sep=\",\", encoding='utf-8')\n",
    "santiago_bernabeu = pd.read_csv(\"./datos/MUSEOS_INDIVIDUALES/museo_santiago_bernabeu_visitantes_filtrados.csv\", sep=\",\", encoding='utf-8')\n",
    "sorolla = pd.read_csv(\"./datos/MUSEOS_INDIVIDUALES/museo_sorolla_visitantes_filtrados.csv\", sep=\",\", encoding='utf-8')\n",
    "thyssen = pd.read_csv(\"./datos/MUSEOS_INDIVIDUALES/museo_thyssen_bornemisza_visitantes_filtrados.csv\", sep=\",\", encoding='utf-8')"
   ]
  },
  {
   "cell_type": "markdown",
   "metadata": {},
   "source": [
    "---\n",
    "\n",
    "***"
   ]
  },
  {
   "cell_type": "code",
   "execution_count": null,
   "metadata": {},
   "outputs": [],
   "source": []
  },
  {
   "cell_type": "markdown",
   "metadata": {},
   "source": [
    "**OUTLAYERS:** restauraciones chocantes, adquisiciones extraordinarias..."
   ]
  }
 ],
 "metadata": {
  "kernelspec": {
   "display_name": "Python 3",
   "language": "python",
   "name": "python3"
  },
  "language_info": {
   "codemirror_mode": {
    "name": "ipython",
    "version": 3
   },
   "file_extension": ".py",
   "mimetype": "text/x-python",
   "name": "python",
   "nbconvert_exporter": "python",
   "pygments_lexer": "ipython3",
   "version": "3.12.6"
  },
  "orig_nbformat": 4
 },
 "nbformat": 4,
 "nbformat_minor": 2
}
